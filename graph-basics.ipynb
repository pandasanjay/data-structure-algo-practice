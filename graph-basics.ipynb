{
 "cells": [
  {
   "cell_type": "markdown",
   "metadata": {},
   "source": [
    "# Practice graph Algorithim\n",
    "Here we will pracice diffrent type of Graph represantation and when to use what and there Time, Space Complexcity of the system"
   ]
  },
  {
   "cell_type": "code",
   "execution_count": 2,
   "metadata": {},
   "outputs": [],
   "source": [
    "# Adjustant List of the graph\n",
    "graph = {\n",
    "    'A': ['B', 'C'],\n",
    "    'B': ['C', 'D'],\n",
    "    'C': ['D'],\n",
    "    'D': []\n",
    "}"
   ]
  },
  {
   "cell_type": "markdown",
   "metadata": {},
   "source": [
    "## Out Degree calculation of a Graph\n",
    "The out-degree of a vertex is the number of edges going out from that vertex.\n",
    "\n",
    "### Calculating Out-degree: \n",
    "To find the out-degree of a vertex using an adjacency list, you simply need to count the number of elements in its corresponding list."
   ]
  },
  {
   "cell_type": "code",
   "execution_count": null,
   "metadata": {},
   "outputs": [],
   "source": [
    "# Find out-degree of the of every vertex\n",
    "def get_out_degree(adj_list):\n",
    "    out_degree = {}\n",
    "    for vertx, neighbors in adj_list.items():\n",
    "        out_degree[vertx] = len(neighbors)\n",
    "    return out_degree;"
   ]
  },
  {
   "cell_type": "markdown",
   "metadata": {},
   "source": [
    "## In-degree: \n",
    "The in-degree of a vertex is the number of edges coming into that vertex.\n",
    "### Calculating In-degree:  \n",
    "Calculating the in-degree is a bit trickier with an adjacency list. You would need to iterate through all the adjacency lists and count how many times each vertex appears in the lists of other vertices."
   ]
  },
  {
   "cell_type": "code",
   "execution_count": null,
   "metadata": {},
   "outputs": [],
   "source": [
    "def get_in_degree(adj_list):\n",
    "    in_degree = {}\n",
    "    for vert, neighbors in adj_list.items():\n",
    "        # If any vertex is not part of the list, \n",
    "        # also it will initialise anything which is first time seeing.\n",
    "        if vert not in in_degree:\n",
    "            in_degree[vert] = 0\n",
    "        \n",
    "        for neighbor in neighbors:\n",
    "            if neighbor in in_degree:                \n",
    "                in_degree[neighbor] += 1\n",
    "            else:\n",
    "                in_degree[neighbor] = 1\n",
    "    return in_degree"
   ]
  },
  {
   "cell_type": "code",
   "execution_count": 16,
   "metadata": {},
   "outputs": [
    {
     "name": "stdout",
     "output_type": "stream",
     "text": [
      "out-degree {'A': 2, 'B': 2, 'C': 1, 'D': 0}\n",
      "in-degree {'A': 0, 'B': 1, 'C': 2, 'D': 2}\n"
     ]
    }
   ],
   "source": [
    "print('out-degree', get_out_degree(graph))\n",
    "print('in-degree', get_in_degree(graph))"
   ]
  }
 ],
 "metadata": {
  "kernelspec": {
   "display_name": ".venv",
   "language": "python",
   "name": "python3"
  },
  "language_info": {
   "codemirror_mode": {
    "name": "ipython",
    "version": 3
   },
   "file_extension": ".py",
   "mimetype": "text/x-python",
   "name": "python",
   "nbconvert_exporter": "python",
   "pygments_lexer": "ipython3",
   "version": "3.12.3"
  }
 },
 "nbformat": 4,
 "nbformat_minor": 2
}
